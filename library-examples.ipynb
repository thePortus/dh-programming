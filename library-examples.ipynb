{
 "cells": [
  {
   "cell_type": "markdown",
   "metadata": {},
   "source": [
    "# Programming Examples\n",
    "\n",
    "David J. Thomas\n",
    "\n",
    "----\n",
    "\n",
    "Uses (and demonstrates) utility functions to quickly do DH work. To use in your notebooks...\n",
    "\n",
    "```python\n",
    "from library import WebPage, TextFile, CSVFile\n",
    "```\n",
    "\n",
    "---"
   ]
  },
  {
   "cell_type": "markdown",
   "metadata": {},
   "source": [
    "## TextFile()\n",
    "\n",
    "```python\n",
    "TextFile().load()\n",
    "TextFile().save()\n",
    "```\n",
    "\n",
    "**Loading, editing, and re-saving a text file**\n",
    "\n",
    "A copy of the 1790 State of the Union Address has a slight issue... there are no spaces after the period ending every sentence. To fix this we need to load the file, then change every `.` into `. `, and then save the results to a different file.\n",
    "\n",
    "This demonstrates loading and saving, including how to specify that you want to write over any existing file"
   ]
  },
  {
   "cell_type": "code",
   "execution_count": 2,
   "metadata": {},
   "outputs": [
    {
     "name": "stdout",
     "output_type": "stream",
     "text": [
      "Loading C:\\Users\\milma\\git\\notebook\\dh-programming\\sample_data\\state_of_union_1790.txt\n",
      "Saving to C:\\Users\\milma\\git\\notebook\\dh-programming\\output\\state_of_union_1790_cleaned.txt\n",
      "Success\n"
     ]
    }
   ],
   "source": [
    "import os\n",
    "from library import TextFile\n",
    "\n",
    "# build system path relative to the current directory\n",
    "input_path = os.path.join(os.getcwd(), 'sample_data', 'state_of_union_1790.txt')\n",
    "output_path = os.path.join(os.getcwd(), 'output', 'state_of_union_1790_cleaned.txt')\n",
    "\n",
    "# load file data\n",
    "text_data = TextFile(input_path).load()\n",
    "# add a space after every period\n",
    "text_data = text_data.replace('.', '. ')\n",
    "# save results, sending optional options dict with overwrite flag set in case file already exists\n",
    "TextFile(output_path).save(text_data, options={'overwrite': True})\n",
    "\n",
    "print('Success')"
   ]
  },
  {
   "cell_type": "markdown",
   "metadata": {},
   "source": [
    "## WebPage()\n",
    "\n",
    "```python\n",
    "WebPage().fetch()\n",
    "WebPage().load()\n",
    "```\n",
    "\n",
    "An historical database has a page with useful data. This example downloads and parses webpages into a BeautifulSoup object, mines them for data, and "
   ]
  },
  {
   "cell_type": "code",
   "execution_count": 1,
   "metadata": {},
   "outputs": [
    {
     "name": "stdout",
     "output_type": "stream",
     "text": [
      "Fetching http://thePortus.com\n",
      "Saving to C:\\Users\\milma\\git\\notebook\\dh-programming\\output\\thePortus.txt\n",
      "Success\n"
     ]
    }
   ],
   "source": [
    "# external imports\n",
    "import os\n",
    "# internal imports\n",
    "from library import WebPage, TextFile\n",
    "\n",
    "input_path = 'http://thePortus.com'\n",
    "# builds full system path by joining the directory of this file to subdirectory and filename\n",
    "output_path = os.path.join(os.getcwd(), 'output', 'thePortus.txt')\n",
    "\n",
    "# make request and turn into beautifulsoup object\n",
    "page_soup = WebPage(input_path).soup()\n",
    "# get raw html as a string from beautifulsoup object\n",
    "raw_html = page_soup.get_text()\n",
    "# create a new TextFile object and then save to the designated path\n",
    "TextFile(output_path).save(raw_html)\n",
    "\n",
    "print('Success')\n"
   ]
  },
  {
   "cell_type": "markdown",
   "metadata": {},
   "source": [
    "## Converting CSV to text data"
   ]
  },
  {
   "cell_type": "code",
   "execution_count": 2,
   "metadata": {},
   "outputs": [
    {
     "name": "stdout",
     "output_type": "stream",
     "text": [
      "Loading C:\\Users\\milma\\git\\notebook\\dh-programming\\sample_data\\caesar_gallic_wars.csv\n",
      "Saving to C:\\Users\\milma\\git\\notebook\\dh-programming\\output\\caesar_gallic_wars.txt\n"
     ]
    },
    {
     "data": {
      "text/plain": [
       "True"
      ]
     },
     "execution_count": 2,
     "metadata": {},
     "output_type": "execute_result"
    }
   ],
   "source": [
    "# external imports\n",
    "import os\n",
    "# internal imports\n",
    "from library.files import CSVFile\n",
    "\n",
    "input_path = os.path.join(os.getcwd(), 'sample_data', 'caesar_gallic_wars.csv')\n",
    "output_path = os.path.join(os.getcwd(), 'output', 'caesar_gallic_wars.txt')\n",
    "\n",
    "# load data as a list of dictionaries\n",
    "csv_data = CSVFile(input_path).load()\n",
    "# create placeholder to append text to\n",
    "entire_text = ''\n",
    "# loop through each row and append the value of 'text' column to entire_text\n",
    "for data_row in csv_data:\n",
    "    entire_text += ' ' + data_row['text']\n",
    "# save the joined data\n",
    "TextFile(output_path).save(entire_text)\n",
    "\n",
    "print('Success')"
   ]
  },
  {
   "cell_type": "code",
   "execution_count": null,
   "metadata": {},
   "outputs": [],
   "source": []
  }
 ],
 "metadata": {
  "kernelspec": {
   "display_name": "Python 3",
   "language": "python",
   "name": "python3"
  },
  "language_info": {
   "codemirror_mode": {
    "name": "ipython",
    "version": 3
   },
   "file_extension": ".py",
   "mimetype": "text/x-python",
   "name": "python",
   "nbconvert_exporter": "python",
   "pygments_lexer": "ipython3",
   "version": "3.6.1"
  }
 },
 "nbformat": 4,
 "nbformat_minor": 2
}
